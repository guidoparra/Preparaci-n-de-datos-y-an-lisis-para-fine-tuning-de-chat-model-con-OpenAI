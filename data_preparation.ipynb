{
 "cells": [
  {
   "cell_type": "markdown",
   "id": "04f8efa7",
   "metadata": {},
   "source": [
    "Preparación de datos y análisis para fine-tuning de chat model\n"
   ]
  },
  {
   "cell_type": "code",
   "execution_count": 2,
   "id": "00409dd8",
   "metadata": {},
   "outputs": [
    {
     "name": "stdout",
     "output_type": "stream",
     "text": [
      "Requirement already satisfied: tiktoken in c:\\users\\guido\\appdata\\local\\programs\\python\\python313\\lib\\site-packages (0.10.0)\n",
      "Requirement already satisfied: regex>=2022.1.18 in c:\\users\\guido\\appdata\\local\\programs\\python\\python313\\lib\\site-packages (from tiktoken) (2025.7.34)\n",
      "Requirement already satisfied: requests>=2.26.0 in c:\\users\\guido\\appdata\\local\\programs\\python\\python313\\lib\\site-packages (from tiktoken) (2.32.3)\n",
      "Requirement already satisfied: charset-normalizer<4,>=2 in c:\\users\\guido\\appdata\\local\\programs\\python\\python313\\lib\\site-packages (from requests>=2.26.0->tiktoken) (3.4.2)\n",
      "Requirement already satisfied: idna<4,>=2.5 in c:\\users\\guido\\appdata\\local\\programs\\python\\python313\\lib\\site-packages (from requests>=2.26.0->tiktoken) (3.10)\n",
      "Requirement already satisfied: urllib3<3,>=1.21.1 in c:\\users\\guido\\appdata\\local\\programs\\python\\python313\\lib\\site-packages (from requests>=2.26.0->tiktoken) (2.4.0)\n",
      "Requirement already satisfied: certifi>=2017.4.17 in c:\\users\\guido\\appdata\\local\\programs\\python\\python313\\lib\\site-packages (from requests>=2.26.0->tiktoken) (2025.4.26)\n"
     ]
    }
   ],
   "source": [
    "!pip install tiktoken"
   ]
  },
  {
   "cell_type": "code",
   "execution_count": 3,
   "id": "e1ec0a6e",
   "metadata": {},
   "outputs": [],
   "source": [
    "import json\n",
    "import tiktoken\n",
    "import numpy as np\n",
    "from collections import defaultdict"
   ]
  },
  {
   "cell_type": "markdown",
   "id": "a9fbdad2",
   "metadata": {},
   "source": [
    "Cargar dataset desde archivo JSONL\n"
   ]
  },
  {
   "cell_type": "code",
   "execution_count": 5,
   "id": "9d693a52",
   "metadata": {},
   "outputs": [],
   "source": [
    "data_path = 'C:\\\\Users\\\\Guido\\\\Desktop\\\\Cursos\\\\Platzi\\\\Desarrollo de Chatbots con OpenAI\\\\FineTuning\\\\RickAndMorty\\\\data_RickAndMorty.jsonl'"
   ]
  },
  {
   "cell_type": "code",
   "execution_count": 6,
   "id": "d735edbf",
   "metadata": {},
   "outputs": [
    {
     "name": "stdout",
     "output_type": "stream",
     "text": [
      "Num examples:  19\n",
      "First example: \n",
      "{'role': 'system', 'content': 'Eres un asistente experto en la serie Rick and Morty, capaz de responder preguntas sobre personajes, episodios, teorías y curiosidades del show.'}\n",
      "{'role': 'user', 'content': '¿Quién es Rick Sánchez?'}\n",
      "{'role': 'assistant', 'content': 'Rick Sánchez (Rick C-137) es un científico genial pero problemático, considerado el hombre más inteligente del universo. Es el abuelo de Morty y viaja a través de dimensiones y galaxias con su nieto. Es conocido por su personalidad cínica, su alcoholismo y su frase característica: \"Wubba Lubba Dub Dub!\"'}\n"
     ]
    }
   ],
   "source": [
    "#Cargar dataset\n",
    "with open(data_path, 'r', encoding='utf-8') as f:\n",
    "    dataset = [json.loads(line) for line in f]\n",
    "\n",
    "#Análisis inicial de dataset\n",
    "print(\"Num examples: \", len(dataset))\n",
    "print(\"First example: \")\n",
    "for message in dataset[0][\"messages\"]:\n",
    "    print(message)   "
   ]
  },
  {
   "cell_type": "markdown",
   "id": "e4ce579d",
   "metadata": {},
   "source": [
    "Validación de formato"
   ]
  },
  {
   "cell_type": "code",
   "execution_count": 7,
   "id": "9321761c",
   "metadata": {},
   "outputs": [
    {
     "name": "stdout",
     "output_type": "stream",
     "text": [
      "No errors found\n"
     ]
    }
   ],
   "source": [
    "# Revisión de errores de formato\n",
    "format_errors = defaultdict(int)\n",
    "\n",
    "for ex in dataset:\n",
    "    if not isinstance(ex, dict):\n",
    "        format_errors[\"data_type\"] += 1\n",
    "        continue\n",
    "        \n",
    "    messages = ex.get(\"messages\", None)\n",
    "    if not messages:\n",
    "        format_errors[\"missing_messages_list\"] += 1\n",
    "        continue\n",
    "        \n",
    "    for message in messages:\n",
    "        if \"role\" not in message or \"content\" not in message:\n",
    "            format_errors[\"message_missing_key\"] += 1\n",
    "        \n",
    "        if any(k not in (\"role\", \"content\", \"name\", \"function_call\") for k in message):\n",
    "            format_errors[\"message_unrecognized_key\"] += 1\n",
    "        \n",
    "        if message.get(\"role\", None) not in (\"system\", \"user\", \"assistant\", \"function\"):\n",
    "            format_errors[\"unrecognized_role\"] += 1\n",
    "            \n",
    "        content = message.get(\"content\", None)\n",
    "        function_call = message.get(\"function_call\", None)\n",
    "        \n",
    "        if (not content and not function_call) or not isinstance(content, str):\n",
    "            format_errors[\"missing_content\"] += 1\n",
    "    \n",
    "    if not any(message.get(\"role\", None) == \"assistant\" for message in messages):\n",
    "        format_errors[\"example_missing_assistant_message\"] += 1\n",
    "\n",
    "if format_errors:\n",
    "    print(\"Found errors:\")\n",
    "    for k, v in format_errors.items():\n",
    "        print(f\"{k}: {v}\")\n",
    "else:\n",
    "    print(\"No errors found\") "
   ]
  },
  {
   "cell_type": "markdown",
   "id": "da1196ce",
   "metadata": {},
   "source": [
    "Utilidades de conteo de Tokens\n"
   ]
  },
  {
   "cell_type": "code",
   "execution_count": 8,
   "id": "b78c3934",
   "metadata": {},
   "outputs": [],
   "source": [
    "encoding = tiktoken.get_encoding(\"cl100k_base\")\n",
    "\n",
    "def num_tokens_from_messages(messages, tokens_per_message=3, tokens_per_name=1):\n",
    "    num_tokens = 0\n",
    "    for message in messages:\n",
    "        num_tokens += tokens_per_message\n",
    "        for key, value in message.items():\n",
    "            num_tokens += len(encoding.encode(value))\n",
    "            if key == \"name\":\n",
    "                num_tokens += tokens_per_name\n",
    "    num_tokens += 3\n",
    "    return num_tokens\n",
    "\n",
    "def num_assistant_tokens_from_messages(messages):\n",
    "    num_tokens = 0\n",
    "    for message in messages:\n",
    "        if message[\"role\"] == \"assistant\":\n",
    "            num_tokens += len(encoding.encode(message[\"content\"]))\n",
    "    return num_tokens\n",
    "\n",
    "def print_distribution(values, name):\n",
    "    print(f\"\\n#### Distribution of {name}:\")\n",
    "    print(f\"min / max: {min(values)}, {max(values)}\")\n",
    "    print(f\"mean / median: {np.mean(values)}, {np.median(values)}\")\n",
    "    print(f\"p5 / p95: {np.quantile(values, 0.1)}, {np.quantile(values, 0.9)}\")"
   ]
  },
  {
   "cell_type": "markdown",
   "id": "8ca878a4",
   "metadata": {},
   "source": [
    "Conteo de Tokens y advertencias de Data.\n"
   ]
  },
  {
   "cell_type": "code",
   "execution_count": null,
   "id": "27d4e212",
   "metadata": {},
   "outputs": [],
   "source": [
    "# Advertencias y conteo de tokens\n",
    "n_missing_system = 0\n",
    "n_missing_user = 0\n",
    "n_messages = []\n",
    "convo_lens = []\n",
    "assistant_message_lens = []\n",
    "\n",
    "for ex in dataset:\n",
    "    messages = ex[\"messages\"]\n",
    "    if not any(message[\"role\"] == \"system\" for message in messages):\n",
    "        n_missing_system += 1\n",
    "    if not any(message[\"role\"] == \"user\" for message in messages):\n",
    "        n_missing_user += 1\n",
    "    n_messages.append(len(messages))\n",
    "    convo_lens.append(num_tokens_from_messages(messages))\n",
    "    assistant_message_lens.append(num_assistant_tokens_from_messages(messages))\n",
    "    \n",
    "print(\"Número de ejemplos con mensaje de sistema faltante:\", n_missing_system)\n",
    "print(\"Número de ejemplos con mensaje de usuario faltante:\", n_missing_user)\n",
    "print_distribution(n_messages, \"núm_mensajes_por_ejemplo\")\n",
    "print_distribution(convo_lens, \"núm_total_tokens_por_ejemplo\")\n",
    "print_distribution(assistant_message_lens, \"núm_assistant_tokens_por_ejemplo\")\n",
    "n_too_long = sum(l > 4096 for l in convo_lens)\n",
    "print(f\"\\n{n_too_long} Si los ejemplos superan el límite de 4096 tokens, se truncarán durante el ajuste.\")"
   ]
  }
 ],
 "metadata": {
  "kernelspec": {
   "display_name": "Python 3",
   "language": "python",
   "name": "python3"
  },
  "language_info": {
   "codemirror_mode": {
    "name": "ipython",
    "version": 3
   },
   "file_extension": ".py",
   "mimetype": "text/x-python",
   "name": "python",
   "nbconvert_exporter": "python",
   "pygments_lexer": "ipython3",
   "version": "3.13.3"
  }
 },
 "nbformat": 4,
 "nbformat_minor": 5
}
